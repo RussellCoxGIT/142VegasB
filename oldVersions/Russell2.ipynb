{
 "cells": [
  {
   "cell_type": "code",
   "execution_count": 23,
   "id": "bcbeb1d0-e317-4b4b-a3c5-60e611da7a99",
   "metadata": {},
   "outputs": [
    {
     "name": "stdout",
     "output_type": "stream",
     "text": [
      "Defaulting to user installation because normal site-packages is not writeable\n",
      "Requirement already satisfied: vegas in /home/rmcox/.local/lib/python3.11/site-packages (6.2.1)\n",
      "Requirement already satisfied: numpy>=1.24 in /opt/conda/lib/python3.11/site-packages (from vegas) (1.26.4)\n",
      "Requirement already satisfied: gvar>=13.1.5 in /home/rmcox/.local/lib/python3.11/site-packages (from vegas) (13.1.5)\n",
      "Requirement already satisfied: scipy>=1.11 in /opt/conda/lib/python3.11/site-packages (from gvar>=13.1.5->vegas) (1.13.0)\n"
     ]
    }
   ],
   "source": [
    "#VEGAS B\n",
    "#Russell's Test Code 1\n",
    "!pip install vegas"
   ]
  },
  {
   "cell_type": "code",
   "execution_count": 31,
   "id": "344bb7b7-8e3e-43fe-8ff4-12544c6ec3b1",
   "metadata": {},
   "outputs": [
    {
     "name": "stdout",
     "output_type": "stream",
     "text": [
      "Generated 748455 accepted events out of 1000000 proposals.\n"
     ]
    },
    {
     "ename": "AttributeError",
     "evalue": "module 'matplotlib.pyplot' has no attribute 'semilog'",
     "output_type": "error",
     "traceback": [
      "\u001b[0;31m---------------------------------------------------------------------------\u001b[0m",
      "\u001b[0;31mAttributeError\u001b[0m                            Traceback (most recent call last)",
      "Cell \u001b[0;32mIn[31], line 71\u001b[0m\n\u001b[1;32m     69\u001b[0m events \u001b[38;5;241m=\u001b[39m generate_drell_yan_events(num_samples)\n\u001b[1;32m     70\u001b[0m \u001b[38;5;28mprint\u001b[39m(\u001b[38;5;124mf\u001b[39m\u001b[38;5;124m\"\u001b[39m\u001b[38;5;124mGenerated \u001b[39m\u001b[38;5;132;01m{\u001b[39;00m\u001b[38;5;28mlen\u001b[39m(events)\u001b[38;5;132;01m}\u001b[39;00m\u001b[38;5;124m accepted events out of \u001b[39m\u001b[38;5;132;01m{\u001b[39;00mnum_samples\u001b[38;5;132;01m}\u001b[39;00m\u001b[38;5;124m proposals.\u001b[39m\u001b[38;5;124m\"\u001b[39m)\n\u001b[0;32m---> 71\u001b[0m \u001b[43mplot_distributions\u001b[49m\u001b[43m(\u001b[49m\u001b[43mevents\u001b[49m\u001b[43m)\u001b[49m\n\u001b[1;32m     73\u001b[0m \u001b[38;5;66;03m#problem B: VEGAS\u001b[39;00m\n\u001b[1;32m     74\u001b[0m \u001b[38;5;28;01mdef\u001b[39;00m \u001b[38;5;21mgenerate_drell_yan_events_adaptive\u001b[39m(num_events, num_iterations\u001b[38;5;241m=\u001b[39m\u001b[38;5;241m5\u001b[39m, num_evaluations\u001b[38;5;241m=\u001b[39m\u001b[38;5;241m1000\u001b[39m, num_bins\u001b[38;5;241m=\u001b[39m\u001b[38;5;241m100\u001b[39m, damping\u001b[38;5;241m=\u001b[39m\u001b[38;5;241m1.5\u001b[39m, ecm_range\u001b[38;5;241m=\u001b[39m(\u001b[38;5;241m10.0\u001b[39m, \u001b[38;5;241m200.0\u001b[39m), cos_range\u001b[38;5;241m=\u001b[39m(\u001b[38;5;241m-\u001b[39m\u001b[38;5;241m1.0\u001b[39m, \u001b[38;5;241m1.0\u001b[39m)):\n",
      "Cell \u001b[0;32mIn[31], line 52\u001b[0m, in \u001b[0;36mplot_distributions\u001b[0;34m(events)\u001b[0m\n\u001b[1;32m     50\u001b[0m plt\u001b[38;5;241m.\u001b[39mfigure(figsize\u001b[38;5;241m=\u001b[39m(\u001b[38;5;241m12\u001b[39m, \u001b[38;5;241m6\u001b[39m))\n\u001b[1;32m     51\u001b[0m plt\u001b[38;5;241m.\u001b[39msubplot(\u001b[38;5;241m1\u001b[39m, \u001b[38;5;241m2\u001b[39m, \u001b[38;5;241m1\u001b[39m) \u001b[38;5;66;03m#ecm subplot\u001b[39;00m\n\u001b[0;32m---> 52\u001b[0m \u001b[43mplt\u001b[49m\u001b[38;5;241;43m.\u001b[39;49m\u001b[43msemilog\u001b[49m(x,y)\n\u001b[1;32m     53\u001b[0m plt\u001b[38;5;241m.\u001b[39mhist(ecm_values, bins\u001b[38;5;241m=\u001b[39m\u001b[38;5;241m200\u001b[39m, color\u001b[38;5;241m=\u001b[39m\u001b[38;5;124m'\u001b[39m\u001b[38;5;124mblue\u001b[39m\u001b[38;5;124m'\u001b[39m, alpha\u001b[38;5;241m=\u001b[39m\u001b[38;5;241m0.7\u001b[39m)\n\u001b[1;32m     54\u001b[0m plt\u001b[38;5;241m.\u001b[39mxlabel(\u001b[38;5;124m'\u001b[39m\u001b[38;5;124mECM [GeV]\u001b[39m\u001b[38;5;124m'\u001b[39m)\n",
      "\u001b[0;31mAttributeError\u001b[0m: module 'matplotlib.pyplot' has no attribute 'semilog'"
     ]
    },
    {
     "data": {
      "image/png": "[encoded data removed]",
      "text/plain": [
       "<Figure size 1200x600 with 1 Axes>"
      ]
     },
     "metadata": {},
     "output_type": "display_data"
    }
   ],
   "source": [
    "import numpy as np\n",
    "import matplotlib.pyplot as plt\n",
    "#cnsts from first table\n",
    "M_Z = 91.188  #Z bosom mass GeV\n",
    "Gamma_Z = 2.4414  #Z boson width GeV\n",
    "alpha_EM = 1 / 132.507  #QED coupling\n",
    "sin2_theta_W = 0.222246  #Weinberg angle\n",
    "G_F = 1.16639e-5  #Fermi constant GeV^-2\n",
    "kappa = np.sqrt(2 * G_F * M_Z**2) * M_Z**2 / (4 * np.pi) #derived from eq.9\n",
    "#cnsts from 2nd table)\n",
    "Q_f = -1\n",
    "V_f = -0.5 + 2 * (sin2_theta_W)\n",
    "A_f = -0.5\n",
    "#def A0,A1 using eq.s 8-9\n",
    "def chi_1(s):\n",
    "    return kappa * s / ((s - M_Z**2)**2 + Gamma_Z**2 * M_Z**2)\n",
    "def chi_2(s):\n",
    "    return kappa * s * Gamma_Z**2 / ((s - M_Z**2)**2 + Gamma_Z**2 * M_Z**2)\n",
    "def A0(s):\n",
    "    return Q_f**2 - 2 * Q_f * V_f * chi_1(s) + (V_f**2 + A_f**2) * chi_1(s) + (V_f**2 + A_f**2) * chi_2(s)\n",
    "def A1(s):\n",
    "    return -4 * Q_f * A_f * chi_1(s) + 8 * A_f * V_f * chi_2(s)\n",
    "\n",
    "def differential_cross_section(ecm, cos_theta): #eq. 7\n",
    "    s = ecm**2\n",
    "    ds_dOmega = (alpha_EM**2 / (48 * np.pi)) * (A0(s) * (1 + cos_theta**2) + A1(s) * cos_theta)\n",
    "    return ds_dOmega\n",
    "\n",
    "#Problem A: acceptance/rejection\n",
    "def generate_drell_yan_events(num_samples, ecm_range=(10, 200), cos_range=(-1, 1)):\n",
    "    ecm_min, ecm_max = ecm_range #integration ranges for ecm and costheta\n",
    "    cos_min, cos_max = cos_range\n",
    "    #random samples in ecm and costheta\n",
    "    ecm_samples = np.random.uniform(ecm_min, ecm_max, num_samples)\n",
    "    cos_samples = np.random.uniform(cos_min, cos_max, num_samples)\n",
    "    #find different ds values, then find max for normalization\n",
    "    ds_values = differential_cross_section(ecm_samples, cos_samples)\n",
    "    max_ds_value = max(differential_cross_section(ecm_min, -1), differential_cross_section(ecm_max, 1))\n",
    "    \n",
    "    rand_vals = np.random.uniform(0, max_ds_value, num_samples)\n",
    "    mask = rand_vals < ds_values #apply acceptance / rejection criterion w/ mask\n",
    "    \n",
    "    # Return accepted events as a numpy array\n",
    "    return np.column_stack((ecm_samples[mask], cos_samples[mask]))\n",
    "#visualization\n",
    "def plot_distributions(events):\n",
    "    ecm_values = events[:, 0]\n",
    "    cos_values = events[:, 1]\n",
    "    \n",
    "    plt.figure(figsize=(12, 6))\n",
    "    plt.subplot(1, 2, 1) #ecm subplot\n",
    "    plt.hist(ecm_values, bins=200, color='blue', alpha=0.7)\n",
    "    plt.xlabel('ECM [GeV]')\n",
    "    plt.ylabel('Frequency')\n",
    "    plt.title('ECM Distribution')\n",
    "    \n",
    "    plt.subplot(1, 2, 2) #costheta subplot\n",
    "    plt.hist(cos_values, bins=200, color='green', alpha=0.7)\n",
    "    plt.xlabel('cos(theta)')\n",
    "    plt.ylabel('Frequency')\n",
    "    plt.title('cos(theta) Distribution')\n",
    "    \n",
    "    plt.tight_layout()\n",
    "    plt.show()\n",
    "\n",
    "#running acceptance/rejection for 1,000,000 samples\n",
    "num_samples = int(1e6)  # Number of proposed samples\n",
    "events = generate_drell_yan_events(num_samples)\n",
    "print(f\"Generated {len(events)} accepted events out of {num_samples} proposals.\")\n",
    "plot_distributions(events)\n",
    "\n",
    "#problem B: VEGAS\n",
    "def generate_drell_yan_events_adaptive(num_events, num_iterations=5, num_evaluations=1000, num_bins=100, damping=1.5, ecm_range=(10.0, 200.0), cos_range=(-1.0, 1.0)):\n",
    "    ecm_min, ecm_max = ecm_range #integration ranges\n",
    "    cos_min, cos_max = cos_range\n",
    "    #initialize bins and weights\n",
    "    ecm_bins = np.linspace(ecm_min, ecm_max, num_bins + 1)\n",
    "    cos_bins = np.linspace(cos_min, cos_max, num_bins + 1)\n",
    "    ecm_weights = np.ones(num_bins) / num_bins\n",
    "    cos_weights = np.ones(num_bins) / num_bins\n",
    "\n",
    "    events = [] #storage\n",
    "    #grid adaptation iteration (this code weights bins, rather than changing their sizes)\n",
    "    for iteration in range(num_iterations):\n",
    "        ecm_integral_contributions = np.zeros(num_bins) #storing contributions\n",
    "        cos_integral_contributions = np.zeros(num_bins)\n",
    "\n",
    "        for _ in range(num_evaluations): #MC integrations\n",
    "            #sample from current grid\n",
    "            ecm = np.random.choice((ecm_bins[:-1] + ecm_bins[1:]) / 2, p=ecm_weights)\n",
    "            cos_theta = np.random.choice((cos_bins[:-1] + cos_bins[1:]) / 2, p=cos_weights)\n",
    "            #calculate ds and store events for each ecm, costheta\n",
    "            ds = differential_cross_section(ecm, cos_theta)\n",
    "            events.append([ecm, cos_theta])\n",
    "            \n",
    "            #bin assignment\n",
    "            ecm_bin_index = np.digitize(ecm, ecm_bins) - 1\n",
    "            cos_bin_index = np.digitize(cos_theta, cos_bins) - 1\n",
    "            #check boundary before using index\n",
    "            if 0 <= ecm_bin_index < num_bins:\n",
    "                ecm_integral_contributions[ecm_bin_index] += ds\n",
    "            if 0 <= cos_bin_index < num_bins:\n",
    "                cos_integral_contributions[cos_bin_index] += ds\n",
    "                \n",
    "        #normalize, smooth, and renorm grid weights (must sum to 1)\n",
    "        ecm_integral_contributions /= np.sum(ecm_integral_contributions)\n",
    "        cos_integral_contributions /= np.sum(cos_integral_contributions)\n",
    "        ecm_weights = (damping * ecm_weights + ecm_integral_contributions) / (damping + 1)\n",
    "        cos_weights = (damping * cos_weights + cos_integral_contributions) / (damping + 1)\n",
    "        ecm_weights /= np.sum(ecm_weights)\n",
    "        cos_weights /= np.sum(cos_weights)\n",
    "    return np.array(events)\n",
    "\n",
    "#visualization is the same as before, still using plot_distribution(events)\n",
    "#running\n",
    "num_events = 10000 #important, do not remove\n",
    "num_iterations = 10  #iterations per grid adaptation\n",
    "num_evaluations = 1000  #evals per iteration\n",
    "num_bins = 200 #bins for grid adaptation\n",
    "damping = 1.5  #minimize rapid grid changes\n",
    "#generate and plot\n",
    "events = generate_drell_yan_events_adaptive(num_events, num_iterations, num_evaluations, num_bins, damping) \n",
    "print(f\"Generated {len(events)} events using adaptive VEGAS method of Monte Carlo integration with {num_iterations} iterations and {num_evaluations} evaluations per iteration.\")\n",
    "plot_distributions(events)\n",
    "\n"
   ]
  },
  {
   "cell_type": "code",
   "execution_count": null,
   "id": "bef0c2d9-8d5a-4c47-a434-a934f0e111f2",
   "metadata": {},
   "outputs": [],
   "source": []
  },
  {
   "cell_type": "code",
   "execution_count": null,
   "id": "d05d462b-7774-4d03-8c4c-ff9e09966a56",
   "metadata": {},
   "outputs": [],
   "source": []
  }
 ],
 "metadata": {
  "kernelspec": {
   "display_name": "Python 3 (ipykernel)",
   "language": "python",
   "name": "python3"
  },
  "language_info": {
   "codemirror_mode": {
    "name": "ipython",
    "version": 3
   },
   "file_extension": ".py",
   "mimetype": "text/x-python",
   "name": "python",
   "nbconvert_exporter": "python",
   "pygments_lexer": "ipython3",
   "version": "3.11.9"
  }
 },
 "nbformat": 4,
 "nbformat_minor": 5
}
